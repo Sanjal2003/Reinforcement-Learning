{
 "cells": [
  {
   "cell_type": "code",
   "execution_count": 5,
   "id": "be82559f-a2dd-4785-a0ac-2a34ded54b35",
   "metadata": {},
   "outputs": [],
   "source": [
    "import numpy as np\n"
   ]
  },
  {
   "cell_type": "code",
   "execution_count": 7,
   "id": "2f9bc28d-2e83-4579-8775-8ed74e06cf38",
   "metadata": {},
   "outputs": [],
   "source": [
    "class SimpleNeuralNetwork:\n",
    "    def __init__(self, input_size, hidden_size, output_size):\n",
    "        # Initialize weights and biases\n",
    "        self.input_size = input_size\n",
    "        self.hidden_size = hidden_size\n",
    "        self.output_size = output_size\n",
    "        \n",
    "        # Weights\n",
    "        self.W1 = np.random.randn(self.input_size, self.hidden_size)  # Input to hidden\n",
    "        self.W2 = np.random.randn(self.hidden_size, self.output_size)  # Hidden to output\n",
    "        \n",
    "        # Biases\n",
    "        self.b1 = np.zeros((1, self.hidden_size))  # Hidden layer bias\n",
    "        self.b2 = np.zeros((1, self.output_size))  # Output layer bias\n",
    "        \n",
    "    def sigmoid(self, z):\n",
    "        return 1 / (1 + np.exp(-z))\n",
    "    \n",
    "    def sigmoid_derivative(self, z):\n",
    "        return z * (1 - z)\n",
    "    \n",
    "    def forward(self, X):\n",
    "        # Forward propagation\n",
    "        self.z1 = np.dot(X, self.W1) + self.b1\n",
    "        self.a1 = self.sigmoid(self.z1)  # Activation from hidden layer\n",
    "        self.z2 = np.dot(self.a1, self.W2) + self.b2\n",
    "        self.a2 = self.sigmoid(self.z2)  # Activation from output layer\n",
    "        return self.a2\n",
    "    \n",
    "    def backward(self, X, y, learning_rate):\n",
    "        # Backward propagation\n",
    "        m = y.shape[0]  # Number of examples\n",
    "\n",
    "        # Calculate the gradient for the output layer\n",
    "        output_error = self.a2 - y  # Error in output\n",
    "        output_delta = output_error * self.sigmoid_derivative(self.a2)  # Apply derivative\n",
    "        \n",
    "        # Calculate the gradient for the hidden layer\n",
    "        hidden_error = output_delta.dot(self.W2.T)  # Error in hidden layer\n",
    "        hidden_delta = hidden_error * self.sigmoid_derivative(self.a1)  # Apply derivative\n",
    "        \n",
    "        # Update weights and biases\n",
    "        self.W2 -= self.a1.T.dot(output_delta) * learning_rate / m  # Update weights for hidden to output\n",
    "        self.b2 -= np.sum(output_delta, axis=0, keepdims=True) * learning_rate / m  # Update biases for output\n",
    "        self.W1 -= X.T.dot(hidden_delta) * learning_rate / m  # Update weights for input to hidden\n",
    "        self.b1 -= np.sum(hidden_delta, axis=0, keepdims=True) * learning_rate / m  # Update biases for hidden\n",
    "        \n",
    "    def train(self, X, y, learning_rate=0.01, epochs=10000):\n",
    "        for epoch in range(epochs):\n",
    "            # Forward pass\n",
    "            self.forward(X)\n",
    "            # Backward pass\n",
    "            self.backward(X, y, learning_rate)\n",
    "\n",
    "            # Print loss every 1000 epochs\n",
    "            if epoch % 1000 == 0:\n",
    "                loss = np.mean(np.square(y - self.a2))  # Mean squared error\n",
    "                print(f'Epoch {epoch}, Loss: {loss:.4f}')\n"
   ]
  },
  {
   "cell_type": "code",
   "execution_count": 9,
   "id": "4c9231ed-68e1-4aa6-bca5-c40905e28209",
   "metadata": {},
   "outputs": [],
   "source": [
    "# XOR input and output\n",
    "X = np.array([[0, 0],\n",
    "              [0, 1],\n",
    "              [1, 0],\n",
    "              [1, 1]])\n",
    "y = np.array([[0],\n",
    "              [1],\n",
    "              [1],\n",
    "              [0]])\n"
   ]
  },
  {
   "cell_type": "code",
   "execution_count": 11,
   "id": "252f7891-4a05-491d-8b85-f5bec8601072",
   "metadata": {},
   "outputs": [
    {
     "name": "stdout",
     "output_type": "stream",
     "text": [
      "Epoch 0, Loss: 0.3278\n",
      "Epoch 1000, Loss: 0.2502\n",
      "Epoch 2000, Loss: 0.2499\n",
      "Epoch 3000, Loss: 0.2498\n",
      "Epoch 4000, Loss: 0.2496\n",
      "Epoch 5000, Loss: 0.2494\n",
      "Epoch 6000, Loss: 0.2491\n",
      "Epoch 7000, Loss: 0.2486\n",
      "Epoch 8000, Loss: 0.2476\n",
      "Epoch 9000, Loss: 0.2454\n"
     ]
    }
   ],
   "source": [
    "# Set input size, hidden size, and output size\n",
    "input_size = 2\n",
    "hidden_size = 2\n",
    "output_size = 1\n",
    "\n",
    "# Initialize the neural network\n",
    "nn = SimpleNeuralNetwork(input_size, hidden_size, output_size)\n",
    "\n",
    "# Train the neural network\n",
    "nn.train(X, y, learning_rate=0.1, epochs=10000)\n"
   ]
  },
  {
   "cell_type": "code",
   "execution_count": 13,
   "id": "a8d03176-5735-4d94-aa54-a2d55efbd50f",
   "metadata": {},
   "outputs": [
    {
     "name": "stdout",
     "output_type": "stream",
     "text": [
      "Predictions:\n",
      "Input: [0 0] -> Predicted: [[0.50893076]]\n",
      "Input: [0 1] -> Predicted: [[0.51565852]]\n",
      "Input: [1 0] -> Predicted: [[0.50652467]]\n",
      "Input: [1 1] -> Predicted: [[0.47418589]]\n"
     ]
    }
   ],
   "source": [
    "# Test the neural network\n",
    "print(\"Predictions:\")\n",
    "for i in range(len(X)):\n",
    "    print(f'Input: {X[i]} -> Predicted: {nn.forward(X[i].reshape(1, -1))}')\n"
   ]
  },
  {
   "cell_type": "code",
   "execution_count": null,
   "id": "9ab734d9-16bf-4c91-a8ee-50dab4491bcf",
   "metadata": {},
   "outputs": [],
   "source": []
  }
 ],
 "metadata": {
  "kernelspec": {
   "display_name": "Python 3 (ipykernel)",
   "language": "python",
   "name": "python3"
  },
  "language_info": {
   "codemirror_mode": {
    "name": "ipython",
    "version": 3
   },
   "file_extension": ".py",
   "mimetype": "text/x-python",
   "name": "python",
   "nbconvert_exporter": "python",
   "pygments_lexer": "ipython3",
   "version": "3.11.7"
  }
 },
 "nbformat": 4,
 "nbformat_minor": 5
}
