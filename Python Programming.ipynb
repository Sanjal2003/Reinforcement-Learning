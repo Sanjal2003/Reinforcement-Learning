{
 "cells": [
  {
   "cell_type": "code",
   "execution_count": 7,
   "id": "352ed0bd-5b94-43e5-8e91-0d02ef516e2d",
   "metadata": {},
   "outputs": [],
   "source": [
    "import pandas as pd\n",
    "\n",
    "# Load the CSV file\n",
    "employee_data = pd.read_csv(\"employee.csv\")\n"
   ]
  },
  {
   "cell_type": "code",
   "execution_count": 25,
   "id": "a99800ca-902e-45b5-b1c6-e8cdfe235364",
   "metadata": {},
   "outputs": [
    {
     "name": "stdout",
     "output_type": "stream",
     "text": [
      "Hello, Mr Kumar\n"
     ]
    }
   ],
   "source": [
    "def greet_employee(employee_id, data):\n",
    "    # Find the employee row with the given EID\n",
    "    employee = data[data['EID'] == employee_id]\n",
    "    \n",
    "    if employee.empty:\n",
    "        return \"Employee ID not found.\"\n",
    "\n",
    "    # Extract the first name and gender\n",
    "    first_name = employee['Employee Name'].iloc[0].split()[0]\n",
    "    gender = employee['Gender'].iloc[0]\n",
    "    \n",
    "    # Determine the salutation based on gender\n",
    "    salutation = \"Mr\" if gender == \"M\" else \"Ms\"\n",
    "    \n",
    "    return f\"Hello, {salutation} {first_name}\"\n",
    "\n",
    "# Example usage\n",
    "print(greet_employee(\"E620Y\", employee_data))\n"
   ]
  },
  {
   "cell_type": "code",
   "execution_count": 11,
   "id": "504b092a-1be4-47de-9f89-4d3a2b492df4",
   "metadata": {},
   "outputs": [
    {
     "name": "stdout",
     "output_type": "stream",
     "text": [
      "Department\n",
      "Engineering     650000.0\n",
      "IT             1200000.0\n",
      "Products       2075000.0\n",
      "Research       1350000.0\n",
      "Semantics      1200000.0\n",
      "Name: Salary, dtype: float64\n"
     ]
    }
   ],
   "source": [
    "def average_salary_by_department(data):\n",
    "    # Group by Department and calculate the average salary for each\n",
    "    avg_salary = data.groupby('Department')['Salary'].mean()\n",
    "    return avg_salary\n",
    "\n",
    "# Example usage\n",
    "print(average_salary_by_department(employee_data))\n"
   ]
  },
  {
   "cell_type": "code",
   "execution_count": 19,
   "id": "f3aeff64-6461-4355-80c2-9850f43407c6",
   "metadata": {},
   "outputs": [
    {
     "name": "stdout",
     "output_type": "stream",
     "text": [
      "Nitin Bhole | 2016-11-01 00:00:00 | Products\n"
     ]
    }
   ],
   "source": [
    "def display_employee_details(employee_id, data):\n",
    "    # Find the employee row with the given EID\n",
    "    employee = data[data['EID'] == employee_id]\n",
    "    \n",
    "    if employee.empty:\n",
    "        return \"Employee ID not found.\"\n",
    "    \n",
    "    # Extract the required details\n",
    "    name = employee['Employee Name'].iloc[0]\n",
    "    date_of_joining = employee['Date of Joining'].iloc[0]\n",
    "    department = employee['Department'].iloc[0]\n",
    "    \n",
    "    return f\"{name} | {date_of_joining} | {department}\"\n",
    "\n",
    "# Example usage\n",
    "print(display_employee_details(\"E123D\", employee_data))\n"
   ]
  },
  {
   "cell_type": "code",
   "execution_count": 15,
   "id": "1d5a1419-1d8b-4a62-b357-126787fe11b4",
   "metadata": {},
   "outputs": [
    {
     "name": "stdout",
     "output_type": "stream",
     "text": [
      "      EID      Employee Name Date of Joining   Department\n",
      "12  E620Y     Kumar Abhishek      2014-12-01    Semantics\n",
      "7   E184A  Kushmakar Krishna      2015-01-01     Products\n",
      "4   E098Z    Rajendra Prabhu      2015-11-11    Semantics\n",
      "8   E104S     Amarnath Patil      2015-11-29  Engineering\n",
      "3   E123B      Pankaj Bansal      2015-12-01     Research\n",
      "1   E876G     Mayur Kulkarni      2016-06-03    Semantics\n",
      "2   E798G      Anurag Pandey      2016-07-04           IT\n",
      "0   E123D        Nitin Bhole      2016-11-01     Products\n",
      "5   E294M     Sumanth Mishra      2017-09-04     Research\n",
      "6   E972L          Sai Bodha      2017-11-11    Semantics\n",
      "10  E983Q     Chakshu Bansal      2017-12-04     Products\n",
      "9   E093V   Shashidhar Reddy      2018-11-29  Engineering\n",
      "13  E109U     Sanket Gibbidi      2019-01-11     Products\n",
      "11  E092E       Mitali Gupta      2019-05-02    Semantics\n"
     ]
    }
   ],
   "source": [
    "def sort_employees_by_joining_date(data):\n",
    "    # Convert 'Date of Joining' to datetime format for sorting\n",
    "    data['Date of Joining'] = pd.to_datetime(data['Date of Joining'], dayfirst=True)\n",
    "    \n",
    "    # Sort by Date of Joining\n",
    "    sorted_data = data.sort_values(by='Date of Joining')\n",
    "    return sorted_data[['EID', 'Employee Name', 'Date of Joining', 'Department']]\n",
    "\n",
    "# Example usage\n",
    "print(sort_employees_by_joining_date(employee_data))\n"
   ]
  },
  {
   "cell_type": "code",
   "execution_count": null,
   "id": "b73d3148-1e3c-40f5-b14d-7b2c98290ae6",
   "metadata": {},
   "outputs": [],
   "source": []
  }
 ],
 "metadata": {
  "kernelspec": {
   "display_name": "Python 3 (ipykernel)",
   "language": "python",
   "name": "python3"
  },
  "language_info": {
   "codemirror_mode": {
    "name": "ipython",
    "version": 3
   },
   "file_extension": ".py",
   "mimetype": "text/x-python",
   "name": "python",
   "nbconvert_exporter": "python",
   "pygments_lexer": "ipython3",
   "version": "3.11.7"
  }
 },
 "nbformat": 4,
 "nbformat_minor": 5
}
