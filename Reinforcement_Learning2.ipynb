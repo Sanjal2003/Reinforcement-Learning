{
  "nbformat": 4,
  "nbformat_minor": 0,
  "metadata": {
    "colab": {
      "provenance": []
    },
    "kernelspec": {
      "name": "python3",
      "display_name": "Python 3"
    },
    "language_info": {
      "name": "python"
    }
  },
  "cells": [
    {
      "cell_type": "code",
      "execution_count": null,
      "metadata": {
        "id": "HDTD5dFqMPvm",
        "colab": {
          "base_uri": "https://localhost:8080/"
        },
        "outputId": "0c8e320d-ed6b-486b-a005-03a4d8bca1f1"
      },
      "outputs": [
        {
          "output_type": "stream",
          "name": "stderr",
          "text": [
            "/usr/local/lib/python3.10/dist-packages/gym/core.py:317: DeprecationWarning: \u001b[33mWARN: Initializing wrapper in old step API which returns one bool instead of two. It is recommended to set `new_step_api=True` to use new step API. This will be the default behaviour in future.\u001b[0m\n",
            "  deprecation(\n",
            "/usr/local/lib/python3.10/dist-packages/gym/wrappers/step_api_compatibility.py:39: DeprecationWarning: \u001b[33mWARN: Initializing environment in old step API which returns one bool instead of two. It is recommended to set `new_step_api=True` to use new step API. This will be the default behaviour in future.\u001b[0m\n",
            "  deprecation(\n",
            "/usr/local/lib/python3.10/dist-packages/gym/core.py:256: DeprecationWarning: \u001b[33mWARN: Function `env.seed(seed)` is marked as deprecated and will be removed in the future. Please use `env.reset(seed=seed)` instead.\u001b[0m\n",
            "  deprecation(\n"
          ]
        }
      ],
      "source": [
        "import gym\n",
        "import numpy as np\n",
        "import random\n",
        "\n",
        "# Initialize MountainCar environment\n",
        "env = gym.make('MountainCar-v0')\n",
        "\n",
        "# Set random seed for reproducibility\n",
        "env.seed(0)\n",
        "np.random.seed(0)\n",
        "random.seed(0)\n"
      ]
    },
    {
      "cell_type": "code",
      "source": [
        "# Hyperparameters\n",
        "learning_rate = 0.1         # Alpha: learning rate for Q-table updates\n",
        "discount_factor = 0.99      # Gamma: discount factor\n",
        "epsilon = 1.0               # Epsilon: exploration rate for epsilon-greedy policy\n",
        "epsilon_decay = 0.995       # Decay rate of epsilon per episode\n",
        "epsilon_min = 0.01          # Minimum epsilon after decay\n",
        "num_episodes = 5000         # Number of training episodes\n",
        "max_steps_per_episode = 200 # Max steps per episode (MountainCar env maxes out at 200)\n"
      ],
      "metadata": {
        "id": "R8OeiZNiMrlr"
      },
      "execution_count": null,
      "outputs": []
    },
    {
      "cell_type": "code",
      "source": [
        "# Number of discrete bins per state dimension\n",
        "num_bins = (20, 20)  # (position, velocity)\n",
        "\n",
        "# Set up bin sizes for position and velocity\n",
        "state_bounds = list(zip(env.observation_space.low, env.observation_space.high))\n",
        "state_bins = [np.linspace(state_bounds[i][0], state_bounds[i][1], num_bins[i]) for i in range(len(num_bins))]\n",
        "\n",
        "# Function to discretize a continuous state\n",
        "def discretize_state(state):\n",
        "    discretized = [int(np.digitize(state[i], state_bins[i]) - 1) for i in range(len(state))]\n",
        "    return tuple(discretized)  # Convert to tuple to use as dictionary key in Q-table\n"
      ],
      "metadata": {
        "id": "UEZHkjESNnFK"
      },
      "execution_count": null,
      "outputs": []
    },
    {
      "cell_type": "code",
      "source": [
        "# Initialize Q-table with zeros\n",
        "action_space_size = env.action_space.n\n",
        "q_table = np.zeros(num_bins + (action_space_size,))\n"
      ],
      "metadata": {
        "id": "Euyc7yvENqUb"
      },
      "execution_count": null,
      "outputs": []
    },
    {
      "cell_type": "code",
      "source": [
        "def select_action(state, epsilon):\n",
        "    if random.uniform(0, 1) < epsilon:\n",
        "        return env.action_space.sample()  # Explore: random action\n",
        "    else:\n",
        "        return np.argmax(q_table[state])  # Exploit: best action for current state\n"
      ],
      "metadata": {
        "id": "xvuCWskQNtHP"
      },
      "execution_count": null,
      "outputs": []
    },
    {
      "cell_type": "code",
      "source": [
        "def update_q_table(state, action, reward, next_state, alpha, gamma):\n",
        "    best_next_action = np.argmax(q_table[next_state])\n",
        "    td_target = reward + gamma * q_table[next_state][best_next_action]\n",
        "    td_error = td_target - q_table[state][action]\n",
        "    q_table[state][action] += alpha * td_error\n"
      ],
      "metadata": {
        "id": "L3RzR0Y0Nvzb"
      },
      "execution_count": null,
      "outputs": []
    },
    {
      "cell_type": "code",
      "source": [
        "# Training loop\n",
        "for episode in range(num_episodes):\n",
        "    state = discretize_state(env.reset())\n",
        "    total_reward = 0\n",
        "\n",
        "    for step in range(max_steps_per_episode):\n",
        "        # Select action using epsilon-greedy policy\n",
        "        action = select_action(state, epsilon)\n",
        "\n",
        "        # Take the action and observe the result\n",
        "        next_state, reward, done, _ = env.step(action)\n",
        "        next_state = discretize_state(next_state)\n",
        "\n",
        "        # Update Q-table\n",
        "        update_q_table(state, action, reward, next_state, learning_rate, discount_factor)\n",
        "\n",
        "        state = next_state\n",
        "        total_reward += reward\n",
        "\n",
        "        if done:\n",
        "            break\n",
        "\n",
        "    # Decay epsilon\n",
        "    if epsilon > epsilon_min:\n",
        "        epsilon *= epsilon_decay\n",
        "\n",
        "    # Print progress every 100 episodes\n",
        "    if (episode + 1) % 100 == 0:\n",
        "        print(f\"Episode {episode + 1}, Total Reward: {total_reward}, Epsilon: {epsilon:.3f}\")\n"
      ],
      "metadata": {
        "colab": {
          "base_uri": "https://localhost:8080/"
        },
        "id": "lwXQve39NyiC",
        "outputId": "c72d7f4d-f650-4b45-82f8-12a2cc778ad8"
      },
      "execution_count": null,
      "outputs": [
        {
          "output_type": "stream",
          "name": "stderr",
          "text": [
            "/usr/local/lib/python3.10/dist-packages/gym/utils/passive_env_checker.py:241: DeprecationWarning: `np.bool8` is a deprecated alias for `np.bool_`.  (Deprecated NumPy 1.24)\n",
            "  if not isinstance(terminated, (bool, np.bool8)):\n"
          ]
        },
        {
          "output_type": "stream",
          "name": "stdout",
          "text": [
            "Episode 100, Total Reward: -200.0, Epsilon: 0.606\n",
            "Episode 200, Total Reward: -200.0, Epsilon: 0.367\n",
            "Episode 300, Total Reward: -200.0, Epsilon: 0.222\n",
            "Episode 400, Total Reward: -200.0, Epsilon: 0.135\n",
            "Episode 500, Total Reward: -200.0, Epsilon: 0.082\n",
            "Episode 600, Total Reward: -200.0, Epsilon: 0.049\n",
            "Episode 700, Total Reward: -200.0, Epsilon: 0.030\n",
            "Episode 800, Total Reward: -200.0, Epsilon: 0.018\n",
            "Episode 900, Total Reward: -200.0, Epsilon: 0.011\n",
            "Episode 1000, Total Reward: -200.0, Epsilon: 0.010\n",
            "Episode 1100, Total Reward: -163.0, Epsilon: 0.010\n",
            "Episode 1200, Total Reward: -187.0, Epsilon: 0.010\n",
            "Episode 1300, Total Reward: -200.0, Epsilon: 0.010\n",
            "Episode 1400, Total Reward: -147.0, Epsilon: 0.010\n",
            "Episode 1500, Total Reward: -200.0, Epsilon: 0.010\n",
            "Episode 1600, Total Reward: -200.0, Epsilon: 0.010\n",
            "Episode 1700, Total Reward: -200.0, Epsilon: 0.010\n",
            "Episode 1800, Total Reward: -200.0, Epsilon: 0.010\n",
            "Episode 1900, Total Reward: -200.0, Epsilon: 0.010\n",
            "Episode 2000, Total Reward: -196.0, Epsilon: 0.010\n",
            "Episode 2100, Total Reward: -200.0, Epsilon: 0.010\n",
            "Episode 2200, Total Reward: -200.0, Epsilon: 0.010\n",
            "Episode 2300, Total Reward: -200.0, Epsilon: 0.010\n",
            "Episode 2400, Total Reward: -200.0, Epsilon: 0.010\n",
            "Episode 2500, Total Reward: -200.0, Epsilon: 0.010\n",
            "Episode 2600, Total Reward: -170.0, Epsilon: 0.010\n",
            "Episode 2700, Total Reward: -200.0, Epsilon: 0.010\n",
            "Episode 2800, Total Reward: -200.0, Epsilon: 0.010\n",
            "Episode 2900, Total Reward: -164.0, Epsilon: 0.010\n",
            "Episode 3000, Total Reward: -200.0, Epsilon: 0.010\n",
            "Episode 3100, Total Reward: -157.0, Epsilon: 0.010\n",
            "Episode 3200, Total Reward: -160.0, Epsilon: 0.010\n",
            "Episode 3300, Total Reward: -156.0, Epsilon: 0.010\n",
            "Episode 3400, Total Reward: -152.0, Epsilon: 0.010\n",
            "Episode 3500, Total Reward: -200.0, Epsilon: 0.010\n",
            "Episode 3600, Total Reward: -200.0, Epsilon: 0.010\n",
            "Episode 3700, Total Reward: -200.0, Epsilon: 0.010\n",
            "Episode 3800, Total Reward: -159.0, Epsilon: 0.010\n",
            "Episode 3900, Total Reward: -154.0, Epsilon: 0.010\n",
            "Episode 4000, Total Reward: -141.0, Epsilon: 0.010\n",
            "Episode 4100, Total Reward: -158.0, Epsilon: 0.010\n",
            "Episode 4200, Total Reward: -150.0, Epsilon: 0.010\n",
            "Episode 4300, Total Reward: -150.0, Epsilon: 0.010\n",
            "Episode 4400, Total Reward: -200.0, Epsilon: 0.010\n",
            "Episode 4500, Total Reward: -154.0, Epsilon: 0.010\n",
            "Episode 4600, Total Reward: -200.0, Epsilon: 0.010\n",
            "Episode 4700, Total Reward: -143.0, Epsilon: 0.010\n",
            "Episode 4800, Total Reward: -153.0, Epsilon: 0.010\n",
            "Episode 4900, Total Reward: -151.0, Epsilon: 0.010\n",
            "Episode 5000, Total Reward: -149.0, Epsilon: 0.010\n"
          ]
        }
      ]
    },
    {
      "cell_type": "code",
      "source": [
        "# Evaluate the trained agent\n",
        "num_eval_episodes = 10\n",
        "total_rewards = []\n",
        "\n",
        "for _ in range(num_eval_episodes):\n",
        "    state = discretize_state(env.reset())\n",
        "    total_reward = 0\n",
        "\n",
        "    for _ in range(max_steps_per_episode):\n",
        "        action = np.argmax(q_table[state])  # Select the best action based on Q-table\n",
        "        next_state, reward, done, _ = env.step(action)\n",
        "        state = discretize_state(next_state)\n",
        "        total_reward += reward\n",
        "        if done:\n",
        "            break\n",
        "\n",
        "    total_rewards.append(total_reward)\n",
        "\n",
        "print(f\"Average reward over {num_eval_episodes} evaluation episodes: {np.mean(total_rewards)}\")\n"
      ],
      "metadata": {
        "colab": {
          "base_uri": "https://localhost:8080/"
        },
        "id": "s62Ll-loN0_I",
        "outputId": "f4b688bc-e846-4fe1-a776-3201374484b6"
      },
      "execution_count": null,
      "outputs": [
        {
          "output_type": "stream",
          "name": "stdout",
          "text": [
            "Average reward over 10 evaluation episodes: -147.8\n"
          ]
        }
      ]
    },
    {
      "cell_type": "code",
      "source": [],
      "metadata": {
        "id": "UvJgA9WeOK6T"
      },
      "execution_count": null,
      "outputs": []
    }
  ]
}